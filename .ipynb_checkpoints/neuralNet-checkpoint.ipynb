{
 "cells": [
  {
   "cell_type": "code",
   "execution_count": 24,
   "id": "fb959b52",
   "metadata": {},
   "outputs": [],
   "source": [
    "import numpy as np\n",
    "import matplotlib.pyplot as plt\n",
    "from math import exp"
   ]
  },
  {
   "cell_type": "code",
   "execution_count": 46,
   "id": "9a47631e",
   "metadata": {},
   "outputs": [
    {
     "data": {
      "text/plain": [
       "<matplotlib.lines.Line2D at 0x7fbf19299e80>"
      ]
     },
     "execution_count": 46,
     "metadata": {},
     "output_type": "execute_result"
    },
    {
     "data": {
      "image/png": "[encoded data removed]",
      "text/plain": [
       "<Figure size 640x480 with 1 Axes>"
      ]
     },
     "metadata": {},
     "output_type": "display_data"
    }
   ],
   "source": [
    "xi = [4, 7, 3, 6, 8.1, 1]\n",
    "wi = [1, 2, 7, 9, 1.2, 5.4]\n",
    "\n",
    "neurons = np.multiply(xi, wi)\n",
    "bias = 2\n",
    "n = sum(neurons) + bias\n",
    "\n",
    "def sigmoid(ls: list):\n",
    "    \n",
    "    ls1 = []\n",
    "    \n",
    "    for x in ls:\n",
    "        sigmoid = 1 / (1 + np.exp(-x))\n",
    "        ls1.append(sigmoid)\n",
    "    \n",
    "    return ls1\n",
    "\n",
    "scope = [i for i in neurons]\n",
    "plt.plot(scope, sigmoid(scope))\n",
    "\n",
    "plt.axhline(0, color='black', linewidth=.5)\n",
    "plt.axvline(0, color='black', linewidth=.5)"
   ]
  },
  {
   "cell_type": "code",
   "execution_count": 33,
   "id": "0aa4c93d",
   "metadata": {},
   "outputs": [
    {
     "data": {
      "text/plain": [
       "range"
      ]
     },
     "execution_count": 33,
     "metadata": {},
     "output_type": "execute_result"
    }
   ],
   "source": []
  },
  {
   "cell_type": "code",
   "execution_count": 4,
   "id": "85ae9f5c",
   "metadata": {},
   "outputs": [
    {
     "data": {
      "text/plain": [
       "array([ 9, 16])"
      ]
     },
     "execution_count": 4,
     "metadata": {},
     "output_type": "execute_result"
    }
   ],
   "source": [
    "a = np.array([1, 2])\n",
    "b = np.array([9, 8])\n",
    "np.multiply(a,b)"
   ]
  }
 ],
 "metadata": {
  "kernelspec": {
   "display_name": "Python 3 (ipykernel)",
   "language": "python",
   "name": "python3"
  },
  "language_info": {
   "codemirror_mode": {
    "name": "ipython",
    "version": 3
   },
   "file_extension": ".py",
   "mimetype": "text/x-python",
   "name": "python",
   "nbconvert_exporter": "python",
   "pygments_lexer": "ipython3",
   "version": "3.8.10"
  }
 },
 "nbformat": 4,
 "nbformat_minor": 5
}
